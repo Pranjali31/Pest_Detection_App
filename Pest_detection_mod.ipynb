{
 "cells": [
  {
   "cell_type": "code",
   "execution_count": null,
   "id": "4be23574",
   "metadata": {},
   "outputs": [],
   "source": [
    "import numpy as np\n",
    "import os\n",
    "import PIL\n",
    "import PIL.Image\n",
    "import tensorflow as tf\n",
    "import glob\n",
    "import pathlib\n",
    "from tensorflow.keras.preprocessing import image\n",
    "import pandas as pd\n",
    "import re\n",
    "from PIL import Image\n",
    "from keras.models import load_model\n",
    "#import tensorflow_datasets as tfds"
   ]
  },
  {
   "cell_type": "code",
   "execution_count": null,
   "id": "a00149af",
   "metadata": {},
   "outputs": [],
   "source": [
    "#Input Image path\n",
    "test_img = tf.keras.utils.load_img(r'C:/Users/nikhi/OneDrive/Desktop/Sem4/data/classification/rt1/ggg.jpg')"
   ]
  },
  {
   "cell_type": "code",
   "execution_count": null,
   "id": "6b3c7333",
   "metadata": {},
   "outputs": [],
   "source": [
    "#Image Preprocessing\n",
    "img_width = 400\n",
    "img_height = 506\n",
    "\n",
    "#Give path for actual image and to store the processed image\n",
    "dataset_path = r'C:/Users/nikhi/OneDrive/Desktop/Sem4/data/classification/rt1/'\n",
    "output_path = r'C:/Users/nikhi/OneDrive/Desktop/Sem4/data/classification/rt/'\n",
    "target_size = (img_height, img_width)  # Specify the desired target size (width, height)\n",
    "\n",
    "os.makedirs(output_path, exist_ok=True)\n",
    "for filename in os.listdir(dataset_path):\n",
    "    if filename.endswith('.jpg') or filename.endswith('.png'):  \n",
    "        image_path = os.path.join(dataset_path, filename)\n",
    "        image = Image.open(image_path)\n",
    "        if image.mode in (\"RGBA\", \"P\"): \n",
    "            image = image.convert(\"RGB\")\n",
    "        resized_image = image.resize(target_size)\n",
    "\n",
    "        output_filename = os.path.join(output_path, filename)\n",
    "        os.makedirs(output_path, exist_ok=True)\n",
    "        resized_image.save(output_filename)\n",
    "\n",
    "\n",
    "#print(\"Resizing completed for the dataset.\")\n",
    "\n",
    "test_img = tf.keras.utils.img_to_array(test_img)\n",
    "#print(test_img.shape)\n",
    "test_img = test_img.reshape(-1,400,506,3)"
   ]
  },
  {
   "cell_type": "code",
   "execution_count": null,
   "id": "81668e61",
   "metadata": {},
   "outputs": [],
   "source": [
    "#loading the trained model\n",
    "\n",
    "model=load_model(\"model_rec1.h5\")"
   ]
  },
  {
   "cell_type": "code",
   "execution_count": null,
   "id": "b1544252",
   "metadata": {},
   "outputs": [],
   "source": [
    "#prediction \n",
    "\n",
    "pred=model.predict(test_img)\n",
    "#print(pred)"
   ]
  },
  {
   "cell_type": "code",
   "execution_count": null,
   "id": "ebb5a7d7",
   "metadata": {},
   "outputs": [],
   "source": [
    "#Display the result \n",
    "\n",
    "pred = np.transpose(pred)\n",
    "#print(pred.shape)\n",
    "if np.max(pred)>=0.04:\n",
    "    p_name = np.where(pred == np.max(pred))\n",
    "    #print(p_name[0])\n",
    "    df1 = pd.read_csv('pest_names.csv')\n",
    "    print('Pest Found!')\n",
    "    print(df1.loc[p_name[0][0] , 'pests'])\n",
    "else:\n",
    "    print('The Plant is Healthy')\n"
   ]
  },
  {
   "cell_type": "code",
   "execution_count": null,
   "id": "d417869f",
   "metadata": {},
   "outputs": [],
   "source": []
  }
 ],
 "metadata": {
  "kernelspec": {
   "display_name": "Python 3 (ipykernel)",
   "language": "python",
   "name": "python3"
  },
  "language_info": {
   "codemirror_mode": {
    "name": "ipython",
    "version": 3
   },
   "file_extension": ".py",
   "mimetype": "text/x-python",
   "name": "python",
   "nbconvert_exporter": "python",
   "pygments_lexer": "ipython3",
   "version": "3.9.16"
  }
 },
 "nbformat": 4,
 "nbformat_minor": 5
}
